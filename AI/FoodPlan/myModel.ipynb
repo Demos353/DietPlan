{
 "cells": [
  {
   "cell_type": "code",
   "execution_count": 1,
   "metadata": {},
   "outputs": [],
   "source": [
    "from sklearn.neighbors import KNeighborsClassifier\n",
    "from sklearn.impute import SimpleImputer\n",
    "import pandas as pd"
   ]
  },
  {
   "cell_type": "code",
   "execution_count": 2,
   "metadata": {},
   "outputs": [],
   "source": [
    "import pandas as pd\n",
    "from sklearn.neighbors import KNeighborsClassifier\n",
    "from sklearn.impute import SimpleImputer\n",
    "import numpy as np\n",
    "\n",
    "def knn(nutrients, dataset):\n",
    "    # Load the dataset into a pandas DataFrame\n",
    "    ds = pd.read_csv(dataset)\n",
    "    ds = ds.dropna(subset=['name'])\n",
    "\n",
    "    # Extract features (calories, carb, fat, protein, sugar) and target variable (name)\n",
    "    x = ds[['calories', 'carb', 'fat', 'protein', 'sugar']]\n",
    "    y = ds['name']\n",
    "\n",
    "    # Impute missing values in features\n",
    "    imputer = SimpleImputer(strategy='mean')\n",
    "    x_imputed = imputer.fit_transform(x)\n",
    "\n",
    "    # Define a weight function that assigns weights based on distance and nutrient importance\n",
    "    def weight_function(distances):\n",
    "        # Assign weights based on the specified nutrient weights\n",
    "        weights = {\n",
    "        }\n",
    "        weights['calories'] = 1\n",
    "        weights['carb'] = 4\n",
    "        weights['fat'] = 9\n",
    "        weights['protein'] = 4\n",
    "        weights['sugar'] = 1\n",
    "\n",
    "        # Calculate the weighted distances\n",
    "        for i in range(len(distances)):\n",
    "            distance = distances[i]\n",
    "            nutrient_weights = []\n",
    "            for nutrient in nutrients:\n",
    "                nutrient_weights.append(weights[nutrient])\n",
    "\n",
    "            # Apply the weight factor to the distance\n",
    "            weighted_distance = distance * np.prod(nutrient_weights)\n",
    "            distances[i] = weighted_distance\n",
    "\n",
    "        return distances\n",
    "\n",
    "    # Create an instance of the KNeighborsClassifier with weights\n",
    "    model = KNeighborsClassifier(n_neighbors=2, weights=weight_function)\n",
    "\n",
    "    # Fit the model on the imputed dataset\n",
    "    model.fit(x_imputed, y)\n",
    "\n",
    "    # Create a new DataFrame with the given nutrients\n",
    "    nutrients_df = pd.DataFrame([nutrients])\n",
    "\n",
    "    # Ensure the input for imputation has the same number of features as the training data\n",
    "    nutrients_df_imputed = imputer.transform(nutrients_df)\n",
    "\n",
    "    # Predict the meal names based on the imputed nutrients\n",
    "    predicted_meal = model.predict(nutrients_df_imputed)\n",
    "\n",
    "    # Get the nutrients of the predicted meals\n",
    "    predicted_nutrients = ds.loc[ds['name'].isin(predicted_meal), ['calories', 'carb', 'fat', 'protein', 'sugar']].values\n",
    "\n",
    "    return predicted_meal[0], predicted_nutrients[0]"
   ]
  },
  {
   "cell_type": "code",
   "execution_count": 3,
   "metadata": {},
   "outputs": [],
   "source": [
    "def knn(nutrients, dataset):\n",
    "    # Load the dataset into a pandas DataFrame\n",
    "    ds = pd.read_csv(dataset)\n",
    "    ds = ds.dropna(subset=['name'])\n",
    "\n",
    "    # Extract the features (calories, carb, fat, protein, sugar) and the target variable (name)\n",
    "    x = ds[['calories', 'carb', 'fat', 'protein', 'sugar']]\n",
    "    y = ds['name']\n",
    "\n",
    "    # Impute missing values in features\n",
    "    imputer = SimpleImputer(strategy='mean')\n",
    "    x_imputed = imputer.fit_transform(x)\n",
    "\n",
    "    # Create an instance of the KNeighborsClassifier\n",
    "    model = KNeighborsClassifier(n_neighbors=2)\n",
    "\n",
    "    # Fit the model on the imputed dataset\n",
    "    model.fit(x_imputed, y)\n",
    "\n",
    "    # Create a new DataFrame with the given nutrients\n",
    "    nutrients_df = pd.DataFrame([nutrients])\n",
    "\n",
    "    # Ensure the input for imputation has the same number of features as the training data\n",
    "    nutrients_df_imputed = imputer.transform(nutrients_df)\n",
    "\n",
    "    # Predict the meal names based on the imputed nutrients\n",
    "    predicted_meal = model.predict(nutrients_df_imputed)\n",
    "\n",
    "    # Get the nutrients of the predicted meals\n",
    "    predicted_nutrients = ds.loc[ds['name'].isin(predicted_meal), ['calories', 'carb', 'fat', 'protein', 'sugar']].values\n",
    "\n",
    "    return predicted_meal[0], predicted_nutrients[0]"
   ]
  },
  {
   "cell_type": "code",
   "execution_count": 4,
   "metadata": {},
   "outputs": [],
   "source": [
    "def load_dishes_csv(dish_type):\n",
    "    # Load dishes of a specific type from its corresponding CSV\n",
    "    file_path = f\"Datasets/{dish_type}.csv\"\n",
    "    return file_path"
   ]
  },
  {
   "cell_type": "code",
   "execution_count": 5,
   "metadata": {},
   "outputs": [],
   "source": [
    "dish_types = ['Drinks', 'Sandwiches', 'Desserts', 'Main dishes', 'Salads', 'Pasta', 'Appetizers', 'Soups', 'Mostly meat']"
   ]
  },
  {
   "cell_type": "code",
   "execution_count": 6,
   "metadata": {},
   "outputs": [],
   "source": [
    "nutrients = {\n",
    "    \"calories\": 1775,\n",
    "    \"carb\": 150,\n",
    "    \"fat\": 75,\n",
    "    \"protein\": 125,\n",
    "    \"sugar\": 15\n",
    "}"
   ]
  },
  {
   "cell_type": "code",
   "execution_count": 7,
   "metadata": {},
   "outputs": [],
   "source": [
    "meal_ratios = {\"breakfast\": 0.3, \"lunch\": 0.4, \"snacks\": 0.1, \"dinner\": 0.2}"
   ]
  },
  {
   "cell_type": "code",
   "execution_count": 8,
   "metadata": {},
   "outputs": [],
   "source": [
    "distribution_ratios = {\n",
    "    \"breakfast\": {\"Drinks\": 0.2, \"Sandwiches\": 0.4, \"Desserts\": 0.4},\n",
    "    \"lunch\": {\"Main dishes\": 0.5, \"Salads\": 0.1, \"Pasta\": 0.4},\n",
    "    \"snacks\": {\"Appetizers\": 0.5, \"Desserts\": 0.4, \"Drinks\": 0.1},\n",
    "    \"dinner\": {\"Main dishes\": 0.5, \"Soups\": 0.3, \"Drinks\": 0.2}\n",
    "}"
   ]
  },
  {
   "cell_type": "code",
   "execution_count": null,
   "metadata": {},
   "outputs": [],
   "source": []
  },
  {
   "cell_type": "code",
   "execution_count": 9,
   "metadata": {},
   "outputs": [
    {
     "name": "stdout",
     "output_type": "stream",
     "text": [
      "Meal: breakfast\n",
      "Drinks - Predicted Meal: Chia Seed Pudding, Predicted Nutrients: [105.    9.8   5.9   3.    0.2]\n",
      "Sandwiches - Predicted Meal: Corned Beef Sandwich, Predicted Nutrients: [215.   15.9  11.   13.1   1.8]\n",
      "Desserts - Predicted Meal: Breakfast Cookies, Predicted Nutrients: [215.   28.2   9.7   7.    6.4]\n",
      "[535.   53.9  26.6  23.1   8.4]\n",
      "\n",
      "\n",
      "Meal: lunch\n",
      "Main dishes - Predicted Meal: Cheese On Toast, Predicted Nutrients: [363.   25.8  21.3  17.4   3.8]\n",
      "Salads - Predicted Meal: Buffalo Chicken Salad, Predicted Nutrients: [71.   4.2  4.3  4.5  1.4]\n",
      "Pasta - Predicted Meal: Creamy Cheese And Lemon Ravioli, Predicted Nutrients: [290.   32.2  13.2  12.9   1.5]\n",
      "[1259.   116.1   65.4   57.9   15.1]\n",
      "\n",
      "\n",
      "Meal: snacks\n",
      "Appetizers - Predicted Meal: Cauliflower Tots, Predicted Nutrients: [172.   14.7   8.5   9.4   2.1]\n",
      "Desserts - Predicted Meal: Overnight Chia Seed Pudding, Predicted Nutrients: [63.   8.   3.1  1.7  1.6]\n",
      "Drinks - Predicted Meal: Tropical Fruit Smoothie, Predicted Nutrients: [17.   3.5  0.1  1.   2.7]\n",
      "[1511.   142.3   77.1   70.    21.5]\n",
      "\n",
      "\n",
      "Meal: dinner\n",
      "Main dishes - Predicted Meal: Low Calorie Monte Cristo Sandwich, Predicted Nutrients: [180.   13.8   7.6  13.7   2.3]\n",
      "Soups - Predicted Meal: Bean Egg and Kale Soup, Predicted Nutrients: [104.   10.6   4.4   5.9   1.3]\n",
      "Drinks - Predicted Meal: Cherry Berry Protein Smoothie, Predicted Nutrients: [73.   7.4  3.   5.   4.8]\n",
      "[1868.   174.1   92.1   94.6   29.9]\n",
      "\n",
      "\n"
     ]
    }
   ],
   "source": [
    "predicted_dishes = {}\n",
    "sum = 0\n",
    "for meal, meal_ratio in meal_ratios.items():\n",
    "    print(f\"Meal: {meal}\")\n",
    "    \n",
    "    # Get distribution ratios for the current meal\n",
    "    meal_distribution_ratios = distribution_ratios.get(meal, {})\n",
    "    \n",
    "    # Calculate nutrients for each dish in the meal\n",
    "    for dish, dish_ratio in meal_distribution_ratios.items():\n",
    "        # Calculate nutrients for the current dish based on ratios\n",
    "        dish_nutrients = {key: value * meal_ratio * dish_ratio for key, value in nutrients.items()}\n",
    "        dish_path = load_dishes_csv(dish)\n",
    "        \n",
    "        predicted_meal, predicted_nutrients = knn(dish_nutrients, dish_path)\n",
    "        \n",
    "        # Store the predicted meal and nutrients for the current dish\n",
    "        predicted_dishes[dish] = {\n",
    "            'predicted_meal': predicted_meal,\n",
    "            'predicted_nutrients': predicted_nutrients\n",
    "        }\n",
    "        \n",
    "        # Print the results for each dish\n",
    "        print(f\"{dish} - Predicted Meal: {predicted_meal}, Predicted Nutrients: {predicted_nutrients}\")\n",
    "        sum += predicted_nutrients\n",
    "        \n",
    "    print(sum)      \n",
    "    print(\"\\n\")\n",
    "   "
   ]
  },
  {
   "cell_type": "code",
   "execution_count": null,
   "metadata": {},
   "outputs": [],
   "source": []
  },
  {
   "cell_type": "code",
   "execution_count": null,
   "metadata": {},
   "outputs": [],
   "source": []
  },
  {
   "cell_type": "code",
   "execution_count": null,
   "metadata": {},
   "outputs": [],
   "source": []
  },
  {
   "cell_type": "code",
   "execution_count": null,
   "metadata": {},
   "outputs": [],
   "source": []
  },
  {
   "cell_type": "code",
   "execution_count": null,
   "metadata": {},
   "outputs": [],
   "source": []
  },
  {
   "cell_type": "code",
   "execution_count": null,
   "metadata": {},
   "outputs": [],
   "source": []
  },
  {
   "cell_type": "code",
   "execution_count": null,
   "metadata": {},
   "outputs": [],
   "source": []
  },
  {
   "cell_type": "code",
   "execution_count": null,
   "metadata": {},
   "outputs": [],
   "source": []
  },
  {
   "cell_type": "code",
   "execution_count": null,
   "metadata": {},
   "outputs": [],
   "source": []
  },
  {
   "cell_type": "code",
   "execution_count": null,
   "metadata": {},
   "outputs": [],
   "source": []
  },
  {
   "cell_type": "code",
   "execution_count": null,
   "metadata": {},
   "outputs": [],
   "source": []
  }
 ],
 "metadata": {
  "kernelspec": {
   "display_name": "Python 3",
   "language": "python",
   "name": "python3"
  },
  "language_info": {
   "codemirror_mode": {
    "name": "ipython",
    "version": 3
   },
   "file_extension": ".py",
   "mimetype": "text/x-python",
   "name": "python",
   "nbconvert_exporter": "python",
   "pygments_lexer": "ipython3",
   "version": "3.11.4"
  }
 },
 "nbformat": 4,
 "nbformat_minor": 2
}
